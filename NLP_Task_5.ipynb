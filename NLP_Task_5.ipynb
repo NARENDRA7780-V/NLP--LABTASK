{
  "nbformat": 4,
  "nbformat_minor": 0,
  "metadata": {
    "colab": {
      "provenance": []
    },
    "kernelspec": {
      "name": "python3",
      "display_name": "Python 3"
    },
    "language_info": {
      "name": "python"
    }
  },
  "cells": [
    {
      "cell_type": "code",
      "execution_count": null,
      "metadata": {
        "colab": {
          "base_uri": "https://localhost:8080/"
        },
        "id": "T3UkJ7jxF82X",
        "outputId": "ee51038a-daa2-4dfc-a3e3-f27e67ed5c69"
      },
      "outputs": [
        {
          "output_type": "stream",
          "name": "stdout",
          "text": [
            "he is\n",
            "he is optimistic\n",
            "he is optimistic about\n",
            "he is optimistic about improved\n",
            "he is optimistic about improved profit\n",
            "he is optimistic about improved profit margins\n",
            "he is optimistic about improved profit margins will\n",
            "he is optimistic about improved profit margins will return\n",
            "he is optimistic about improved profit margins will return and\n",
            "he is optimistic about improved profit margins will return and has\n",
            "he is optimistic about improved profit margins will return and has sales\n",
            "he is optimistic about improved profit margins will return and has sales of\n",
            "he is optimistic about improved profit margins will return and has sales of 2\n",
            "he is optimistic about improved profit margins will return and has sales of 2 ,\n",
            "he is optimistic about improved profit margins will return and has sales of 2 , 407\n",
            "he is optimistic about improved profit margins will return and has sales of 2 , 407 rev\n",
            "he is optimistic about improved profit margins will return and has sales of 2 , 407 rev 676\n",
            "he is optimistic about improved profit margins will return and has sales of 2 , 407 rev 676 ,\n",
            "he is optimistic about improved profit margins will return and has sales of 2 , 407 rev 676 , 000\n",
            "he is optimistic about improved profit margins will return and has sales of 2 , 407 rev 676 , 000 dlrs\n"
          ]
        }
      ],
      "source": [
        "import string\n",
        "import random\n",
        "import nltk\n",
        "from nltk.corpus import stopwords, reuters\n",
        "from collections import Counter, defaultdict\n",
        "from nltk import FreqDist, ngrams\n",
        "\n",
        "\n",
        "sents = reuters.sents()\n",
        "stop_word = set(stopwords.words('english'))\n",
        "string.punctuation = string.punctuation + ' \" ' + ' \" ' + ' - ' + ' _ '\n",
        "removal_list = list(stop_word) + list(string.punctuation) + ['\\t', 'rt']\n",
        "\n",
        "unigram = []\n",
        "bigram = []\n",
        "trigram = []\n",
        "tokenized_text = []\n",
        "\n",
        "for sentence in sents:\n",
        "    sentence = [word.lower() for word in sentence]\n",
        "    sentence = [word for word in sentence if word != '.']\n",
        "\n",
        "    for word in sentence:\n",
        "        unigram.append(word)\n",
        "        tokenized_text.append(word)\n",
        "\n",
        "    bigram.extend(list(ngrams(sentence, 2, pad_left=True, pad_right=True)))\n",
        "    trigram.extend(list(ngrams(sentence, 3, pad_left=True, pad_right=True)))\n",
        "\n",
        "def remove_stopwords(x):\n",
        "    y = []\n",
        "    for item in x:\n",
        "        if isinstance(item, tuple):\n",
        "            if any(word not in removal_list for word in item if word is not None):\n",
        "                 y.append(item)\n",
        "        elif isinstance(item, str):\n",
        "            if item not in removal_list:\n",
        "                y.append(item)\n",
        "    return y\n",
        "\n",
        "unigram = remove_stopwords(unigram)\n",
        "bigram = remove_stopwords(bigram)\n",
        "trigram = remove_stopwords(trigram)\n",
        "\n",
        "\n",
        "freq_uni = FreqDist(unigram)\n",
        "freq_bi = FreqDist(bigram)\n",
        "freq_tri = FreqDist(trigram)\n",
        "\n",
        "d = defaultdict(Counter)\n",
        "for a, b, c in freq_tri:\n",
        "    if (a is not None) and (b is not None) and (c is not None):\n",
        "        d[(a, b)][c] += freq_tri[(a, b, c)]\n",
        "\n",
        "def pick_word(counter):\n",
        "    \"choose a random element\"\n",
        "    if counter:\n",
        "        return random.choice(list(counter.elements()))\n",
        "    else:\n",
        "        return None\n",
        "\n",
        "prefix = \"he\", \"is\"\n",
        "print(\" \".join(prefix))\n",
        "s = \" \".join(prefix)\n",
        "\n",
        "for i in range(19):\n",
        "    if prefix in d:\n",
        "        suffix = pick_word(d[prefix])\n",
        "        if suffix is not None:\n",
        "            s = s + ' ' + suffix\n",
        "            print(s)\n",
        "            prefix = prefix[1], suffix\n",
        "        else:\n",
        "            print(f\"No suffix found for prefix: {prefix}\")\n",
        "            break\n",
        "    else:\n",
        "        print(f\"Prefix not found in trigram data: {prefix}\")\n",
        "        break"
      ]
    }
  ]
}