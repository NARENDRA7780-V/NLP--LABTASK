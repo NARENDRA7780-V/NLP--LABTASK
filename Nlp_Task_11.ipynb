{
  "nbformat": 4,
  "nbformat_minor": 0,
  "metadata": {
    "colab": {
      "provenance": [],
      "authorship_tag": "ABX9TyPDocyURkavoA0zeRlkhJsb",
      "include_colab_link": true
    },
    "kernelspec": {
      "name": "python3",
      "display_name": "Python 3"
    },
    "language_info": {
      "name": "python"
    }
  },
  "cells": [
    {
      "cell_type": "markdown",
      "metadata": {
        "id": "view-in-github",
        "colab_type": "text"
      },
      "source": [
        "<a href=\"https://colab.research.google.com/github/NARENDRA7780-V/NLP--LABTASK/blob/main/Nlp_Task_11.ipynb\" target=\"_parent\"><img src=\"https://colab.research.google.com/assets/colab-badge.svg\" alt=\"Open In Colab\"/></a>"
      ]
    },
    {
      "cell_type": "code",
      "execution_count": null,
      "metadata": {
        "colab": {
          "base_uri": "https://localhost:8080/"
        },
        "id": "K0mS1oVihecB",
        "outputId": "10a78af3-6360-42f0-9547-d35be1be5818"
      },
      "outputs": [
        {
          "output_type": "stream",
          "name": "stdout",
          "text": [
            "Extracted Chunks:\n",
            "Staff Editor, AI Models IBM Think Staff Writer IBM Think Natural language processing (NLP) is a subfield of computer science and artificial intelligence (AI) that uses machine learning to enable computers to understand and communicate with human language\n",
            "NLP enables computers and digital devices to recognize, understand and generate text and speech by combining computational linguistics, the rule-based modeling of human language together with statistical modeling, machine learning and deep learning\n",
            "NLP research has helped enable the era of generative AI, from the communication skills of large language models (LLMs) to the ability of image generation models to understand requests\n",
            "NLP is already part of everyday life for many, powering search engines, prompting chatbots for customer service with spoken commands, voice-operated GPS systems and question-answering digital assistants on smartphones such as Amazon’s Alexa, Apple’s Siri and Microsoft’s Cortana\n",
            "NLP also plays a growing role in enterprise solutions that help streamline and automate business operations, increase employee productivity and simplify business processes\n"
          ]
        }
      ],
      "source": [
        "import re, requests, torch\n",
        "import torch.nn as nn\n",
        "from bs4 import BeautifulSoup\n",
        "# from tensorflow.keras.utils import pad_sequences # This line was causing the error\n",
        "from tensorflow.keras.preprocessing.text import Tokenizer\n",
        "from tensorflow.keras.utils import pad_sequences # Corrected import statement\n",
        "\n",
        "class ChunkerModel(nn.Module):\n",
        "    def __init__(self, vocab_size):\n",
        "        super().__init__()\n",
        "        self.lstm, self.fc = nn.LSTM(128, 64, batch_first=True), nn.Linear(64, 1)\n",
        "\n",
        "    def forward(self, x): return torch.sigmoid(self.fc(self.lstm(x)[0][:, -1, :]))\n",
        "\n",
        "def fetch_text(url):\n",
        "    return re.sub(r'\\s+', ' ', ' '.join(p.get_text() for p in BeautifulSoup(requests.get(url).text,\n",
        "                                                                          'html.parser').find_all('p')))\n",
        "\n",
        "def preprocess(text):\n",
        "    tok = Tokenizer(num_words=5000)\n",
        "    tok.fit_on_texts([text])\n",
        "    return pad_sequences(tok.texts_to_sequences([text]), maxlen=100, padding='post'), tok\n",
        "\n",
        "def segment_text(url):\n",
        "    text, (seq, tok) = fetch_text(url), preprocess(fetch_text(url))\n",
        "    return text.split('. ')[:5]\n",
        "\n",
        "print(\"Extracted Chunks:\",\n",
        "      *segment_text(\"https://www.ibm.com/think/topics/natural-language-processing\"), sep=\"\\n\")\n"
      ]
    }
  ]
}