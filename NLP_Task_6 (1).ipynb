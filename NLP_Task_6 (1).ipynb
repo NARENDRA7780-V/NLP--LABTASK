{
  "nbformat": 4,
  "nbformat_minor": 0,
  "metadata": {
    "colab": {
      "provenance": [],
      "gpuType": "T4"
    },
    "kernelspec": {
      "name": "python3",
      "display_name": "Python 3"
    },
    "language_info": {
      "name": "python"
    },
    "accelerator": "GPU"
  },
  "cells": [
    {
      "cell_type": "code",
      "execution_count": null,
      "metadata": {
        "colab": {
          "base_uri": "https://localhost:8080/"
        },
        "id": "BKlCg12rKi1c",
        "outputId": "ef30cb29-f3e1-4856-d3eb-4804e980badc"
      },
      "outputs": [
        {
          "output_type": "stream",
          "name": "stderr",
          "text": [
            "[nltk_data] Downloading package punkt_tab to /root/nltk_data...\n",
            "[nltk_data]   Unzipping tokenizers/punkt_tab.zip.\n"
          ]
        },
        {
          "output_type": "stream",
          "name": "stdout",
          "text": [
            "Enter a sentence: he is optimistic about reforming\n",
            "Enter the value of N for N-grams: 10\n",
            "Next words: </s> </s> </s>\n"
          ]
        }
      ],
      "source": [
        "import nltk\n",
        "nltk.download('punkt_tab')\n",
        "from nltk.util import ngrams\n",
        "from nltk.lm import Laplace\n",
        "from nltk.tokenize import word_tokenize\n",
        "from nltk.lm.preprocessing import padded_everygram_pipeline\n",
        "\n",
        "def ngram_smoothing(sentence, n):\n",
        "    tokens = word_tokenize(sentence.lower())\n",
        "    train_data, padded_sents = padded_everygram_pipeline(n, [tokens])\n",
        "    model = Laplace(n)\n",
        "    model.fit(train_data, padded_sents)\n",
        "    return model\n",
        "\n",
        "sentence = input(\"Enter a sentence: \")\n",
        "n = int(input(\"Enter the value of N for N-grams: \"))\n",
        "\n",
        "model = ngram_smoothing(sentence, n)\n",
        "\n",
        "tokens = word_tokenize(sentence.lower())\n",
        "context = tokens[-n+1:] if n > 1 else []\n",
        "\n",
        "next_words = [model.generate(text_seed=context) for _ in range(3)]\n",
        "print(\"Next words:\", ' '.join(next_words))\n"
      ]
    }
  ]
}