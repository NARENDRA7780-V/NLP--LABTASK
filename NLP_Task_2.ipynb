{
  "nbformat": 4,
  "nbformat_minor": 0,
  "metadata": {
    "colab": {
      "provenance": []
    },
    "kernelspec": {
      "name": "python3",
      "display_name": "Python 3"
    },
    "language_info": {
      "name": "python"
    }
  },
  "cells": [
    {
      "cell_type": "code",
      "source": [
        "import nltk\n",
        "from nltk.tokenize import word_tokenize\n",
        "nltk.download(\"punkt\")\n",
        "nltk.download(\"punkt_tab\")\n",
        "text = \"Tokenization without transformers is straightforward with tools like NLTK in Python.\"\n",
        "tokens = word_tokenize(text)\n",
        "print(\"tokens:\",tokens)\n",
        "from transformers import AutoTokenizer\n",
        "tokenizer = AutoTokenizer.from_pretrained(\"bert-base-uncased\")\n",
        "text = \"Tokenization without transformers is straightforward with tools like NLTK\"\n",
        "tokens_transformers = tokenizer(text,return_tensors=\"pt\")\n",
        "print(\"transformwes tokens:\",tokens_transformers)\n",
        "tokens_transformers_list= tokenizer.convert_ids_to_tokens(tokens_transformers['input_ids'][0].numpy().tolist())\n",
        "print(\"transformers tokens(list):\",tokens_transformers_list)\n",
        "decoded_text= tokenizer.decode(tokens_transformers['input_ids'][0],skip_special_tokens = True)\n",
        "print(\"decoded text:\",decoded_text)"
      ],
      "metadata": {
        "colab": {
          "base_uri": "https://localhost:8080/"
        },
        "id": "X28gQePDGDfv",
        "outputId": "22fe3884-6e89-4a0c-a51a-cedf8a81629c"
      },
      "execution_count": null,
      "outputs": [
        {
          "output_type": "stream",
          "name": "stderr",
          "text": [
            "[nltk_data] Downloading package punkt to /root/nltk_data...\n",
            "[nltk_data]   Package punkt is already up-to-date!\n",
            "[nltk_data] Downloading package punkt_tab to /root/nltk_data...\n",
            "[nltk_data]   Package punkt_tab is already up-to-date!\n"
          ]
        },
        {
          "output_type": "stream",
          "name": "stdout",
          "text": [
            "tokens: ['Tokenization', 'without', 'transformers', 'is', 'straightforward', 'with', 'tools', 'like', 'NLTK', 'in', 'Python', '.']\n",
            "transformwes tokens: {'input_ids': tensor([[  101, 19204,  3989,  2302, 19081,  2003, 19647,  2007,  5906,  2066,\n",
            "         17953,  2102,  2243,   102]]), 'token_type_ids': tensor([[0, 0, 0, 0, 0, 0, 0, 0, 0, 0, 0, 0, 0, 0]]), 'attention_mask': tensor([[1, 1, 1, 1, 1, 1, 1, 1, 1, 1, 1, 1, 1, 1]])}\n",
            "transformers tokens(list): ['[CLS]', 'token', '##ization', 'without', 'transformers', 'is', 'straightforward', 'with', 'tools', 'like', 'nl', '##t', '##k', '[SEP]']\n",
            "decoded text: tokenization without transformers is straightforward with tools like nltk\n"
          ]
        }
      ]
    }
  ]
}